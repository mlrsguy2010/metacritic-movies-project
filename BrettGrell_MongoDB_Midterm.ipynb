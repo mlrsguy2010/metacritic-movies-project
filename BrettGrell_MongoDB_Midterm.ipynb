{
 "cells": [
  {
   "cell_type": "markdown",
   "metadata": {},
   "source": [
    "Brett D. Grell\n",
    "DA 320\n",
    "Midterm: MongoDB Notebooks\n",
    "11/07/2022"
   ]
  },
  {
   "cell_type": "code",
   "execution_count": 1,
   "metadata": {},
   "outputs": [],
   "source": [
    "# Initial runtime setup\n",
    "\n",
    "import re\n",
    "import urllib3\n",
    "import certifi\n",
    "\n",
    "# Construct regular expressions for data scraping\n",
    "\n",
    "title_regex = re.compile(r\"class=\\\"title\\\"><h3>(.+)</h3>\")\n",
    "date_regex = re.compile(r\"class=\\\"clamp-details\\\">\\s+<span>(.+)</span>\")\n",
    "description_regex = re.compile(r\"<div class=\\\"summary\\\">\\s*([\\S\\s]+?)\\s*<\\/div>\")\n",
    "score_regex = re.compile(r\"<span class=\\\"title\\\">Metascore:</span>\\s+<a class=\\\"metascore_anchor\\\"href=\\\"/movie/.*?/critic-reviews\\\">\\s+<div class=\\\"metascore_w large movie.+\\\">(.?)</div>\")\n",
    "image_regex = re.compile(r\"<a href=\\\"/movie/.*\\\"><img src=\\\"(.*)\\\"alt=\\\"\")\n",
    "\n",
    "# Construct HTTP pool for neccessary connections\n",
    "\n",
    "http= urllib3.PoolManager(ca_certs=certifi.where())"
   ]
  },
  {
   "cell_type": "code",
   "execution_count": 2,
   "metadata": {},
   "outputs": [],
   "source": [
    "# Connect to database\n",
    "\n",
    "import json\n",
    "import pymongo\n",
    "\n",
    "# Retrieve credentials needed for database connection\n",
    "\n",
    "with open('C:\\\\Users\\\\brett\\\\Desktop\\\\DA 320\\\\secrets.json') as f:\n",
    "    data = json.load(f)\n",
    "    secret_key = data['mongodb']\n",
    "\n",
    "# Fetch required database\n",
    "\n",
    "client = pymongo.MongoClient(secret_key, tlsCAFile=certifi.where())\n",
    "my_database = client['DA_320_Movies']\n",
    "metacritic_data = my_database['Metacritic']"
   ]
  },
  {
   "cell_type": "code",
   "execution_count": 9,
   "metadata": {},
   "outputs": [],
   "source": [
    "# Lets scrape some data!\n",
    "\n",
    "import pandas\n",
    "\n",
    "# Retrieve list of movies from specified year and page of Metacritic\n",
    "\n",
    "def data_scraper(year: int, page: int) -> pandas.DataFrame:\n",
    "\n",
    "    # Fetch webpage\n",
    "    url = f\"https://www.metacritic.com/browse/movies/score/metascore/year/filtered?year_selected={year}&sort=desc&view=detailed&page{page}\"\n",
    "    response = http.request('GET', url, headers={'User-Agent': 'Mozilla/5.0'})\n",
    "    datastring = str(response.data, \"utf-8\")\n",
    "\n",
    "    # Execute regular expressions\n",
    "    titles = title_regex.findall(datastring)\n",
    "    dates = date_regex.findall(datastring)\n",
    "    descriptions = description_regex.findall(datastring)\n",
    "    scores = score_regex.findall(datastring)\n",
    "    images = image_regex.findall(datastring)\n",
    "\n",
    "    # Debug mismatched array length. Code posted on discussion board by Stuart Ketcham\n",
    "    print(\"title: \", len(titles), \"date: \", len(dates), \"description: \" , len(descriptions), \"score: \" , len(scores), \"image: \" , len(images))\n",
    "\n",
    "    # Return unified collection\n",
    "    dataset = {\"title\": titles, \"date\": dates, \"description\": descriptions, \"score\": scores, \"image\": images}\n",
    "    return pandas.DataFrame(dataset)\n",
    "\n",
    "    \n",
    "\n",
    "\n"
   ]
  },
  {
   "cell_type": "code",
   "execution_count": 6,
   "metadata": {},
   "outputs": [
    {
     "name": "stdout",
     "output_type": "stream",
     "text": [
      "Collecting data for 2000 page 0...\n",
      "title:  100 date:  100 description:  100 score:  0 image:  0\n"
     ]
    },
    {
     "ename": "ValueError",
     "evalue": "All arrays must be of the same length",
     "output_type": "error",
     "traceback": [
      "\u001b[1;31m---------------------------------------------------------------------------\u001b[0m",
      "\u001b[1;31mValueError\u001b[0m                                Traceback (most recent call last)",
      "Cell \u001b[1;32mIn [6], line 11\u001b[0m\n\u001b[0;32m      9\u001b[0m \u001b[39m# Retry page multiple times if needed\u001b[39;00m\n\u001b[0;32m     10\u001b[0m \u001b[39mwhile\u001b[39;00m \u001b[39mTrue\u001b[39;00m:\n\u001b[1;32m---> 11\u001b[0m     data \u001b[39m=\u001b[39m data_scraper(year, page)\n\u001b[0;32m     13\u001b[0m     \u001b[39m# Stop when a page has 0 rows\u001b[39;00m\n\u001b[0;32m     14\u001b[0m     \u001b[39mif\u001b[39;00m \u001b[39mlen\u001b[39m(data) \u001b[39m==\u001b[39m \u001b[39m0\u001b[39m:\n",
      "Cell \u001b[1;32mIn [5], line 26\u001b[0m, in \u001b[0;36mdata_scraper\u001b[1;34m(year, page)\u001b[0m\n\u001b[0;32m     24\u001b[0m \u001b[39m# Return unified collection\u001b[39;00m\n\u001b[0;32m     25\u001b[0m dataset \u001b[39m=\u001b[39m {\u001b[39m\"\u001b[39m\u001b[39mtitle\u001b[39m\u001b[39m\"\u001b[39m: titles, \u001b[39m\"\u001b[39m\u001b[39mdate\u001b[39m\u001b[39m\"\u001b[39m: dates, \u001b[39m\"\u001b[39m\u001b[39mdescription\u001b[39m\u001b[39m\"\u001b[39m: descriptions, \u001b[39m\"\u001b[39m\u001b[39mscore\u001b[39m\u001b[39m\"\u001b[39m: scores, \u001b[39m\"\u001b[39m\u001b[39mimage\u001b[39m\u001b[39m\"\u001b[39m: images}\n\u001b[1;32m---> 26\u001b[0m \u001b[39mreturn\u001b[39;00m pandas\u001b[39m.\u001b[39;49mDataFrame(dataset)\n",
      "File \u001b[1;32m~\\AppData\\Roaming\\Python\\Python310\\site-packages\\pandas\\core\\frame.py:663\u001b[0m, in \u001b[0;36mDataFrame.__init__\u001b[1;34m(self, data, index, columns, dtype, copy)\u001b[0m\n\u001b[0;32m    657\u001b[0m     mgr \u001b[39m=\u001b[39m \u001b[39mself\u001b[39m\u001b[39m.\u001b[39m_init_mgr(\n\u001b[0;32m    658\u001b[0m         data, axes\u001b[39m=\u001b[39m{\u001b[39m\"\u001b[39m\u001b[39mindex\u001b[39m\u001b[39m\"\u001b[39m: index, \u001b[39m\"\u001b[39m\u001b[39mcolumns\u001b[39m\u001b[39m\"\u001b[39m: columns}, dtype\u001b[39m=\u001b[39mdtype, copy\u001b[39m=\u001b[39mcopy\n\u001b[0;32m    659\u001b[0m     )\n\u001b[0;32m    661\u001b[0m \u001b[39melif\u001b[39;00m \u001b[39misinstance\u001b[39m(data, \u001b[39mdict\u001b[39m):\n\u001b[0;32m    662\u001b[0m     \u001b[39m# GH#38939 de facto copy defaults to False only in non-dict cases\u001b[39;00m\n\u001b[1;32m--> 663\u001b[0m     mgr \u001b[39m=\u001b[39m dict_to_mgr(data, index, columns, dtype\u001b[39m=\u001b[39;49mdtype, copy\u001b[39m=\u001b[39;49mcopy, typ\u001b[39m=\u001b[39;49mmanager)\n\u001b[0;32m    664\u001b[0m \u001b[39melif\u001b[39;00m \u001b[39misinstance\u001b[39m(data, ma\u001b[39m.\u001b[39mMaskedArray):\n\u001b[0;32m    665\u001b[0m     \u001b[39mimport\u001b[39;00m \u001b[39mnumpy\u001b[39;00m\u001b[39m.\u001b[39;00m\u001b[39mma\u001b[39;00m\u001b[39m.\u001b[39;00m\u001b[39mmrecords\u001b[39;00m \u001b[39mas\u001b[39;00m \u001b[39mmrecords\u001b[39;00m\n",
      "File \u001b[1;32m~\\AppData\\Roaming\\Python\\Python310\\site-packages\\pandas\\core\\internals\\construction.py:494\u001b[0m, in \u001b[0;36mdict_to_mgr\u001b[1;34m(data, index, columns, dtype, typ, copy)\u001b[0m\n\u001b[0;32m    490\u001b[0m     \u001b[39melse\u001b[39;00m:\n\u001b[0;32m    491\u001b[0m         \u001b[39m# dtype check to exclude e.g. range objects, scalars\u001b[39;00m\n\u001b[0;32m    492\u001b[0m         arrays \u001b[39m=\u001b[39m [x\u001b[39m.\u001b[39mcopy() \u001b[39mif\u001b[39;00m \u001b[39mhasattr\u001b[39m(x, \u001b[39m\"\u001b[39m\u001b[39mdtype\u001b[39m\u001b[39m\"\u001b[39m) \u001b[39melse\u001b[39;00m x \u001b[39mfor\u001b[39;00m x \u001b[39min\u001b[39;00m arrays]\n\u001b[1;32m--> 494\u001b[0m \u001b[39mreturn\u001b[39;00m arrays_to_mgr(arrays, columns, index, dtype\u001b[39m=\u001b[39;49mdtype, typ\u001b[39m=\u001b[39;49mtyp, consolidate\u001b[39m=\u001b[39;49mcopy)\n",
      "File \u001b[1;32m~\\AppData\\Roaming\\Python\\Python310\\site-packages\\pandas\\core\\internals\\construction.py:119\u001b[0m, in \u001b[0;36marrays_to_mgr\u001b[1;34m(arrays, columns, index, dtype, verify_integrity, typ, consolidate)\u001b[0m\n\u001b[0;32m    116\u001b[0m \u001b[39mif\u001b[39;00m verify_integrity:\n\u001b[0;32m    117\u001b[0m     \u001b[39m# figure out the index, if necessary\u001b[39;00m\n\u001b[0;32m    118\u001b[0m     \u001b[39mif\u001b[39;00m index \u001b[39mis\u001b[39;00m \u001b[39mNone\u001b[39;00m:\n\u001b[1;32m--> 119\u001b[0m         index \u001b[39m=\u001b[39m _extract_index(arrays)\n\u001b[0;32m    120\u001b[0m     \u001b[39melse\u001b[39;00m:\n\u001b[0;32m    121\u001b[0m         index \u001b[39m=\u001b[39m ensure_index(index)\n",
      "File \u001b[1;32m~\\AppData\\Roaming\\Python\\Python310\\site-packages\\pandas\\core\\internals\\construction.py:667\u001b[0m, in \u001b[0;36m_extract_index\u001b[1;34m(data)\u001b[0m\n\u001b[0;32m    665\u001b[0m lengths \u001b[39m=\u001b[39m \u001b[39mlist\u001b[39m(\u001b[39mset\u001b[39m(raw_lengths))\n\u001b[0;32m    666\u001b[0m \u001b[39mif\u001b[39;00m \u001b[39mlen\u001b[39m(lengths) \u001b[39m>\u001b[39m \u001b[39m1\u001b[39m:\n\u001b[1;32m--> 667\u001b[0m     \u001b[39mraise\u001b[39;00m \u001b[39mValueError\u001b[39;00m(\u001b[39m\"\u001b[39m\u001b[39mAll arrays must be of the same length\u001b[39m\u001b[39m\"\u001b[39m)\n\u001b[0;32m    669\u001b[0m \u001b[39mif\u001b[39;00m have_dicts:\n\u001b[0;32m    670\u001b[0m     \u001b[39mraise\u001b[39;00m \u001b[39mValueError\u001b[39;00m(\n\u001b[0;32m    671\u001b[0m         \u001b[39m\"\u001b[39m\u001b[39mMixing dicts with non-Series may lead to ambiguous ordering.\u001b[39m\u001b[39m\"\u001b[39m\n\u001b[0;32m    672\u001b[0m     )\n",
      "\u001b[1;31mValueError\u001b[0m: All arrays must be of the same length"
     ]
    }
   ],
   "source": [
    "import time\n",
    "\n",
    "# Write a CSV file for retrieved data\n",
    "\n",
    "for year in range(2000, 2023):\n",
    "    page = 0\n",
    "    print(f\"Collecting data for {year} page {page}...\")\n",
    "\n",
    "    # Retry page multiple times if needed\n",
    "    while True:\n",
    "        data = data_scraper(year, page)\n",
    "\n",
    "        # Stop when a page has 0 rows\n",
    "        if len(data) == 0:\n",
    "            break\n",
    "\n",
    "        # Convert dataframe into a list of movies for INSERT into MongoDB\n",
    "        movies_to_insert = []\n",
    "        for row in data.itertuples():\n",
    "            movie = {\n",
    "                \"title\": row.title,\n",
    "                \"release_date\": row.date,\n",
    "                \"description\": row.description,\n",
    "                \"metascore\": row.score,\n",
    "                \"image_url\": row.image,\n",
    "            }\n",
    "            movies_to_insert.append(movie)\n",
    "\n",
    "        # Insert records into MongoDB\n",
    "        print(f\"Inserting {len(movies_to_insert)} movies for the year {year} page {page}\")\n",
    "        metacritic_data.insert_many(movies_to_insert)\n",
    "        page = page + 1"
   ]
  },
  {
   "cell_type": "code",
   "execution_count": null,
   "metadata": {},
   "outputs": [],
   "source": []
  }
 ],
 "metadata": {
  "kernelspec": {
   "display_name": "Python 3.10.7 64-bit",
   "language": "python",
   "name": "python3"
  },
  "language_info": {
   "codemirror_mode": {
    "name": "ipython",
    "version": 3
   },
   "file_extension": ".py",
   "mimetype": "text/x-python",
   "name": "python",
   "nbconvert_exporter": "python",
   "pygments_lexer": "ipython3",
   "version": "3.10.7"
  },
  "orig_nbformat": 4,
  "vscode": {
   "interpreter": {
    "hash": "26de051ba29f2982a8de78e945f0abaf191376122a1563185a90213a26c5da77"
   }
  }
 },
 "nbformat": 4,
 "nbformat_minor": 2
}
